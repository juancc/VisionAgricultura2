{
  "nbformat": 4,
  "nbformat_minor": 0,
  "metadata": {
    "colab": {
      "provenance": []
    },
    "kernelspec": {
      "name": "python3",
      "display_name": "Python 3"
    },
    "language_info": {
      "name": "python"
    }
  },
  "cells": [
    {
      "cell_type": "code",
      "execution_count": 1,
      "metadata": {
        "id": "dXvenySJvOOr"
      },
      "outputs": [],
      "source": [
        "import cv2\n",
        "import numpy as np"
      ]
    },
    {
      "cell_type": "code",
      "source": [
        "im = np.zeros((100,100), np.uint8)"
      ],
      "metadata": {
        "id": "b-N6X1fqvUWZ"
      },
      "execution_count": 2,
      "outputs": []
    },
    {
      "cell_type": "code",
      "source": [
        "for i in range(100): im[i,i] = 255"
      ],
      "metadata": {
        "id": "dktPw9C5vYZd"
      },
      "execution_count": 4,
      "outputs": []
    },
    {
      "cell_type": "code",
      "source": [
        "im"
      ],
      "metadata": {
        "colab": {
          "base_uri": "https://localhost:8080/",
          "height": 158
        },
        "id": "MxjktfxLv1d_",
        "outputId": "bdd9d1b0-5833-4d92-80f0-eceaf063b823"
      },
      "execution_count": 5,
      "outputs": [
        {
          "output_type": "execute_result",
          "data": {
            "text/plain": [
              "array([[255,   0,   0, ...,   0,   0,   0],\n",
              "       [  0, 255,   0, ...,   0,   0,   0],\n",
              "       [  0,   0, 255, ...,   0,   0,   0],\n",
              "       ...,\n",
              "       [  0,   0,   0, ..., 255,   0,   0],\n",
              "       [  0,   0,   0, ...,   0, 255,   0],\n",
              "       [  0,   0,   0, ...,   0,   0, 255]], dtype=uint8)"
            ],
            "text/html": [
              "<style>\n",
              "      .ndarray_repr .ndarray_raw_data {\n",
              "        display: none;\n",
              "      }\n",
              "      .ndarray_repr.show_array .ndarray_raw_data {\n",
              "        display: block;\n",
              "      }\n",
              "      .ndarray_repr.show_array .ndarray_image_preview {\n",
              "        display: none;\n",
              "      }\n",
              "      </style>\n",
              "      <div id=\"id-e7019f8b-c5df-44fb-a9e2-baa6fa7b6049\" class=\"ndarray_repr\"><pre>ndarray (100, 100) <button style=\"padding: 0 2px;\">show data</button></pre><img src=\"data:image/png;base64,iVBORw0KGgoAAAANSUhEUgAAAGQAAABkCAAAAABVicqIAAAAPUlEQVR4nO3NAQkAAAwDoPUvvbU4HLSAaS5YLBaLxWKxWCwWi8VisVgsFovFYrFYLBaLxWKxWCwWi8XyfhmN72OdtFGcQAAAAABJRU5ErkJggg==\" class=\"ndarray_image_preview\" /><pre class=\"ndarray_raw_data\">array([[255,   0,   0, ...,   0,   0,   0],\n",
              "       [  0, 255,   0, ...,   0,   0,   0],\n",
              "       [  0,   0, 255, ...,   0,   0,   0],\n",
              "       ...,\n",
              "       [  0,   0,   0, ..., 255,   0,   0],\n",
              "       [  0,   0,   0, ...,   0, 255,   0],\n",
              "       [  0,   0,   0, ...,   0,   0, 255]], dtype=uint8)</pre></div><script>\n",
              "      (() => {\n",
              "      const titles = ['show data', 'hide data'];\n",
              "      let index = 0\n",
              "      document.querySelector('#id-e7019f8b-c5df-44fb-a9e2-baa6fa7b6049 button').onclick = (e) => {\n",
              "        document.querySelector('#id-e7019f8b-c5df-44fb-a9e2-baa6fa7b6049').classList.toggle('show_array');\n",
              "        index = (++index) % 2;\n",
              "        document.querySelector('#id-e7019f8b-c5df-44fb-a9e2-baa6fa7b6049 button').textContent = titles[index];\n",
              "        e.preventDefault();\n",
              "        e.stopPropagation();\n",
              "      }\n",
              "      })();\n",
              "    </script>"
            ]
          },
          "metadata": {},
          "execution_count": 5
        }
      ]
    }
  ]
}